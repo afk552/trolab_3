{
 "cells": [
  {
   "cell_type": "markdown",
   "metadata": {},
   "source": [
    "<font size=4>\n",
    "Создать ноутбук, в котором будут приведены собственные примеры решения систем линейных уравнений матричным методом и методом Крамера.\n",
    "</font>\n"
   ]
  },
  {
   "cell_type": "code",
   "execution_count": 1,
   "metadata": {},
   "outputs": [],
   "source": [
    "import numpy as np"
   ]
  },
  {
   "cell_type": "markdown",
   "metadata": {},
   "source": [
    "### <b> Метод решения СЛАУ матричным методом </b>\n",
    "Записываем уравнение в виде $AX = B$. Выражаем X: $X = A ^{-1} \\times  B$. Если определитель матрицы $A$ больше 0, то находим обратную матрицу. Затем умножаем обратную матрицу $A$ на матрицу свободных членов $B$, получаем ответ."
   ]
  },
  {
   "cell_type": "markdown",
   "metadata": {},
   "source": [
    "$$X = А^{-1} \\cdot  B$$"
   ]
  },
  {
   "cell_type": "markdown",
   "metadata": {},
   "source": [
    "Пусть задана система уравнений:\n",
    "$$\n",
    "\\left\\{\\begin{matrix}\n",
    "2x_{1} - 4x_{2} + 3x_{3} = 1 \\\\ \n",
    "2x_{1} - 2x_{2} + 4x_{3} = 3 \\\\\n",
    "3x_{1} - x_{2} + 5x_{3} = 2\n",
    "\\end{matrix}\\right.\n",
    "$$"
   ]
  },
  {
   "cell_type": "markdown",
   "metadata": {},
   "source": [
    "Приведем систему к матричному виду:\n",
    "$$\n",
    "\\left(\\begin{array}{ccc|c}  \n",
    " 2 & -4 & 3 & 1 \\\\  \n",
    " 2 & -2 & 4 & 3\\\\ \n",
    " 3 & -1 & 5 & 2\\\\ \n",
    "\\end{array}\\right)\n",
    "$$"
   ]
  },
  {
   "cell_type": "markdown",
   "metadata": {},
   "source": [
    "Найдем определитель $\\triangle A $, обратную матрицу $А^{-1} = E / A$ и присоединенную матрицу $A^*$."
   ]
  },
  {
   "cell_type": "code",
   "execution_count": 2,
   "metadata": {},
   "outputs": [
    {
     "name": "stdout",
     "output_type": "stream",
     "text": [
      "[-1.  0.  1.]\n"
     ]
    }
   ],
   "source": [
    "A = np.array([[2., 2., 3.], [-4., -2., -1], [3, 4, 5]])\n",
    "B = np.array([1., 3., 2.])\n",
    "\n",
    "# Определитель\n",
    "det_A = np.linalg.det(A)\n",
    "\n",
    "if det_A != 0:\n",
    "    # Обратная матрица\n",
    "    inv_A = np.linalg.inv(A)\n",
    "    # Присоединенная матрица, решения\n",
    "    result = inv_A.dot(B)\n",
    "    print(result)\n",
    "else:\n",
    "    print(\"Матричный метод не подходит для решения этой системы!\")"
   ]
  },
  {
   "cell_type": "markdown",
   "metadata": {},
   "source": [
    "### <b> Метод решения СЛАУ методом Крамера</b>"
   ]
  },
  {
   "cell_type": "markdown",
   "metadata": {},
   "source": [
    "<b> Теорема Крамера: </b> Если определитель матрицы $\\triangle$ квадратной системы не равен нулю, то система совместна и имеет единственное решение, которое находится по формулам Крамера: $x_1 = \\frac{\\triangle_1}{\\triangle};  x_2 = \\frac{\\triangle_2}{\\triangle}; x_3 = \\frac{\\triangle_3}{\\triangle}$, где $\\triangle_i$ - определитель матрицы системы, где вместо i-го столбца стоит столбец правых частей."
   ]
  },
  {
   "cell_type": "markdown",
   "metadata": {},
   "source": [
    "В качестве примера возьмем СЛАУ, решенную выше матричным методом:\n",
    "$$\n",
    "\\left\\{\\begin{matrix}\n",
    "2x_{1} - 4x_{2} + 3x_{3} = 1 \\\\ \n",
    "2x_{1} - 2x_{2} + 4x_{3} = 3 \\\\\n",
    "3x_{1} - x_{2} + 5x_{3} = 2\n",
    "\\end{matrix}\\right.\n",
    "$$"
   ]
  },
  {
   "cell_type": "markdown",
   "metadata": {},
   "source": [
    "Приведем систему к матричному виду:\n",
    "$$\n",
    "\\left(\\begin{array}{ccc|c}  \n",
    " 2 & -4 & 3 & 1 \\\\  \n",
    " 2 & -2 & 4 & 3\\\\ \n",
    " 3 & -1 & 5 & 2\\\\ \n",
    "\\end{array}\\right)\n",
    "$$\n"
   ]
  },
  {
   "cell_type": "markdown",
   "metadata": {},
   "source": [
    "Найдем определитель $\\triangle A $, побочные определители для каждого столбца."
   ]
  },
  {
   "cell_type": "code",
   "execution_count": 3,
   "metadata": {},
   "outputs": [
    {
     "name": "stdout",
     "output_type": "stream",
     "text": [
      "-1.0000000000000004\n",
      "-0.0\n",
      "1.0\n"
     ]
    }
   ],
   "source": [
    "A = np.array([[2., 2., 3.], [-4., -2., -1], [3, 4, 5]])\n",
    "B = np.array([1., 3., 2.])\n",
    "\n",
    "# считаем главный определитель\n",
    "det_A = np.linalg.det(A)\n",
    "\n",
    "if (det_A != 0): \n",
    "    # Побочные определители\n",
    "    kram_dets = []\n",
    "    for i in range(len(A)):\n",
    "        copied_A = np.array(A)\n",
    "        copied_A[:, i] = B\n",
    "        kram_dets.append(np.linalg.det(copied_A))\n",
    "    # Решения\n",
    "    for det_i in kram_dets:\n",
    "        print(float(det_i) / det_A)\n",
    "else:\n",
    "    print(\"Матричный метод не подходит для решения этой системы!\")"
   ]
  },
  {
   "cell_type": "markdown",
   "metadata": {},
   "source": [
    "Результаты решений СЛАУ обоими способами совпали."
   ]
  }
 ],
 "metadata": {
  "kernelspec": {
   "display_name": "Python 3 (ipykernel)",
   "language": "python",
   "name": "python3"
  },
  "language_info": {
   "codemirror_mode": {
    "name": "ipython",
    "version": 3
   },
   "file_extension": ".py",
   "mimetype": "text/x-python",
   "name": "python",
   "nbconvert_exporter": "python",
   "pygments_lexer": "ipython3",
   "version": "3.9.13"
  }
 },
 "nbformat": 4,
 "nbformat_minor": 2
}
