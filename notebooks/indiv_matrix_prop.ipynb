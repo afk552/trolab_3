{
 "cells": [
  {
   "cell_type": "markdown",
   "metadata": {},
   "source": [
    "<font size=5>\n",
    "Создать ноутбук, в котором будут приведены собственные примеры на языке Python для каждого из представленных свойств матричных вычислений.\n",
    "</font>"
   ]
  },
  {
   "cell_type": "code",
   "execution_count": 1,
   "id": "00ed1a46",
   "metadata": {},
   "outputs": [],
   "source": [
    "import numpy as np"
   ]
  },
  {
   "cell_type": "markdown",
   "id": "7ae6201c",
   "metadata": {},
   "source": [
    "#### Свойство 1. Дважды транспонированная матрица равна исходной матрице:"
   ]
  },
  {
   "cell_type": "code",
   "execution_count": 2,
   "id": "cc7ca486",
   "metadata": {},
   "outputs": [
    {
     "name": "stdout",
     "output_type": "stream",
     "text": [
      "[[-12  56  82]\n",
      " [ 92  56  25]\n",
      " [ -3  23   8]]\n",
      "Транспонированная матрица: \n",
      "[[-12  92  -3]\n",
      " [ 56  56  23]\n",
      " [ 82  25   8]]\n",
      "Дважды транспонированная матрица: \n",
      "[[-12  56  82]\n",
      " [ 92  56  25]\n",
      " [ -3  23   8]]\n"
     ]
    }
   ],
   "source": [
    "A = np.random.randint(-20, 100, (3, 3))\n",
    "print(A)\n",
    "print(\"Транспонированная матрица: \")\n",
    "print(A.T)\n",
    "print(\"Дважды транспонированная матрица: \")\n",
    "R = (A.T).T\n",
    "print(R)"
   ]
  },
  {
   "cell_type": "markdown",
   "id": "73c3c431",
   "metadata": {},
   "source": [
    "#### Свойство 2. Транспонирование суммы матриц равно сумме транспонированных матриц:"
   ]
  },
  {
   "cell_type": "code",
   "execution_count": 3,
   "id": "76936e8a",
   "metadata": {},
   "outputs": [
    {
     "name": "stdout",
     "output_type": "stream",
     "text": [
      "A\n",
      "[[ 87  33   8]\n",
      " [ 22  33  76]\n",
      " [ 89 -19  27]],\n",
      "B\n",
      "[[77  5 85]\n",
      " [ 1 52 83]\n",
      " [69 49 49]]\n",
      "Транспонирование суммы матриц:\n",
      "[[164  23 158]\n",
      " [ 38  85  30]\n",
      " [ 93 159  76]]\n",
      "Сумма транспонированных матриц:\n",
      "[[164  23 158]\n",
      " [ 38  85  30]\n",
      " [ 93 159  76]]\n"
     ]
    }
   ],
   "source": [
    "A = np.random.randint(-20, 100, (3, 3))\n",
    "B = np.random.randint(-20, 100, (3, 3))\n",
    "print(f\"A\\n{A},\\nB\\n{B}\")\n",
    "\n",
    "print(\"Транспонирование суммы матриц:\")\n",
    "L = (A + B).T\n",
    "print(L)\n",
    "\n",
    "print(\"Сумма транспонированных матриц:\")\n",
    "R = A.T + B.T\n",
    "print(R)"
   ]
  },
  {
   "cell_type": "markdown",
   "id": "be334278",
   "metadata": {},
   "source": [
    "#### Свойство 3. Транспонирование произведения матриц равно произведению транспонированных матриц расставленных в обратном порядке"
   ]
  },
  {
   "cell_type": "code",
   "execution_count": 4,
   "id": "583c93b3",
   "metadata": {},
   "outputs": [
    {
     "name": "stdout",
     "output_type": "stream",
     "text": [
      "A\n",
      "[[3 2 3]\n",
      " [1 3 9]\n",
      " [5 6 7]],\n",
      "B\n",
      "[[5 0 6]\n",
      " [0 8 7]\n",
      " [5 9 1]]\n",
      "Транспонирование произведения матриц:\n",
      "[[ 30  50  60]\n",
      " [ 43 105 111]\n",
      " [ 35  36  79]]\n",
      "Произведение транспонированных матриц:\n",
      "[[ 30  50  60]\n",
      " [ 43 105 111]\n",
      " [ 35  36  79]]\n"
     ]
    }
   ],
   "source": [
    "A = np.random.randint(0, 10, (3, 3))\n",
    "B = np.random.randint(0, 10, (3, 3))\n",
    "print(f\"A\\n{A},\\nB\\n{B}\")\n",
    "\n",
    "print(\"Транспонирование произведения матриц:\")\n",
    "L = (A.dot(B)).T\n",
    "print(L)\n",
    "\n",
    "print(\"Произведение транспонированных матриц:\")\n",
    "R = (B.T).dot(A.T)\n",
    "print(R)"
   ]
  },
  {
   "cell_type": "markdown",
   "id": "78bc136b",
   "metadata": {},
   "source": [
    "#### Свойство 4. Транспонирование произведения матрицы на число равно произведению этого числа на транспонированную матрицу:"
   ]
  },
  {
   "cell_type": "code",
   "execution_count": 5,
   "id": "adcb1f26",
   "metadata": {
    "scrolled": true
   },
   "outputs": [
    {
     "name": "stdout",
     "output_type": "stream",
     "text": [
      "[[11 11 17]\n",
      " [13  3 11]\n",
      " [ 6  6 12]]\n",
      "Транспонирование произведения матрицы на число 3:\n",
      "[[33 39 18]\n",
      " [33  9 18]\n",
      " [51 33 36]]\n",
      "Произведение числа 3 на транспонированную матрицу:\n",
      "[[33 39 18]\n",
      " [33  9 18]\n",
      " [51 33 36]]\n"
     ]
    }
   ],
   "source": [
    "A = np.random.randint(0, 20, (3, 3))\n",
    "print(A)\n",
    "k = 3\n",
    "\n",
    "print(f\"Транспонирование произведения матрицы на число {k}:\")\n",
    "L = (k * A).T\n",
    "print(L)\n",
    "\n",
    "print(f\"Произведение числа {k} на транспонированную матрицу:\")\n",
    "R = k * (A.T)\n",
    "print(R)"
   ]
  },
  {
   "cell_type": "markdown",
   "id": "941c7203",
   "metadata": {},
   "source": [
    "#### Свойство 5. Определители исходной и транспонированной матрицы совпадают:"
   ]
  },
  {
   "cell_type": "code",
   "execution_count": 6,
   "id": "0328b3e6",
   "metadata": {},
   "outputs": [
    {
     "name": "stdout",
     "output_type": "stream",
     "text": [
      "[[2 2 2]\n",
      " [6 8 1]\n",
      " [0 4 5]]\n",
      "Определитель исходной матрицы:\n",
      "60\n",
      "Определитель транспонированной матрицы:\n",
      "60\n"
     ]
    }
   ],
   "source": [
    "A = np.random.randint(0, 10, (3, 3))\n",
    "print(A)\n",
    "\n",
    "print(\"Определитель исходной матрицы:\")\n",
    "A_det = np.linalg.det(A)\n",
    "print(format(A_det, '.9g'))\n",
    "\n",
    "print(\"Определитель транспонированной матрицы:\")\n",
    "A_T_det = np.linalg.det(A.T)\n",
    "print(format(A_T_det, '.9g'))"
   ]
  },
  {
   "cell_type": "markdown",
   "metadata": {},
   "source": [
    "## <b> Действия над матрицами </b>"
   ]
  },
  {
   "cell_type": "markdown",
   "metadata": {},
   "source": [
    "### Умножение матриц на число"
   ]
  },
  {
   "cell_type": "markdown",
   "id": "24c521e7",
   "metadata": {},
   "source": [
    "#### Свойство 1. Произведение единицы и любой заданной матрицы равно заданной матрице:"
   ]
  },
  {
   "cell_type": "code",
   "execution_count": 7,
   "id": "fe8c8630",
   "metadata": {},
   "outputs": [
    {
     "name": "stdout",
     "output_type": "stream",
     "text": [
      "[[5 6]\n",
      " [8 5]]\n",
      "Произведение единицы и матрицы:\n",
      "[[5 6]\n",
      " [8 5]]\n"
     ]
    }
   ],
   "source": [
    "A = np.random.randint(0, 10, (2, 2))\n",
    "print(A)\n",
    "\n",
    "print(\"Произведение единицы и матрицы:\")\n",
    "L = 1 * A\n",
    "print(L)"
   ]
  },
  {
   "cell_type": "markdown",
   "id": "954dc3a7",
   "metadata": {},
   "source": [
    "#### Свойство 2. Произведение нуля и любой матрицы равно нулевой матрице, размерность которой равна исходной матрицы:"
   ]
  },
  {
   "cell_type": "code",
   "execution_count": 8,
   "id": "9e741179",
   "metadata": {},
   "outputs": [
    {
     "name": "stdout",
     "output_type": "stream",
     "text": [
      "Нулевая матрица:\n",
      "[[0 0]\n",
      " [0 0]]\n",
      "Произведение матрицы на 0:\n",
      "[[0 0]\n",
      " [0 0]]\n"
     ]
    }
   ],
   "source": [
    "A = np.random.randint(-20, 100, (2, 2))\n",
    "Z = np.matrix('0 0; 0 0')\n",
    "L = 0 * A\n",
    "print(\"Нулевая матрица:\")\n",
    "print(Z)\n",
    "print(\"Произведение матрицы на 0:\")\n",
    "print(L)"
   ]
  },
  {
   "cell_type": "markdown",
   "id": "1bc9b901",
   "metadata": {},
   "source": [
    "#### Свойство 3. Произведение матрицы на сумму чисел равно сумме произведений матрицы на каждое из этих чисел:"
   ]
  },
  {
   "cell_type": "code",
   "execution_count": 9,
   "id": "cd121f26",
   "metadata": {},
   "outputs": [
    {
     "name": "stdout",
     "output_type": "stream",
     "text": [
      "[[ 6 17  3]\n",
      " [ 9 17  2]\n",
      " [10  2 10]]\n",
      "Произведение матрицы на сумму чисел:\n",
      "[[30 85 15]\n",
      " [45 85 10]\n",
      " [50 10 50]]\n",
      "Произведений матрицы на каждое из этих чисел:\n",
      "[[30 85 15]\n",
      " [45 85 10]\n",
      " [50 10 50]]\n"
     ]
    }
   ],
   "source": [
    "A = np.random.randint(0, 20, (3, 3))\n",
    "print(A)\n",
    "p = 2\n",
    "q = 3\n",
    "print(\"Произведение матрицы на сумму чисел:\")\n",
    "L = (p + q) * A\n",
    "print(L)\n",
    "print(\"Произведений матрицы на каждое из этих чисел:\")\n",
    "R = p * A + q * A\n",
    "print(R)"
   ]
  },
  {
   "cell_type": "markdown",
   "id": "ab6b59e1",
   "metadata": {},
   "source": [
    "#### Свойство 4. Произведение матрицы на произведение двух чисел равно произведению второго числа и заданной матрицы, умноженному на первое число:"
   ]
  },
  {
   "cell_type": "code",
   "execution_count": 10,
   "id": "617e6f84",
   "metadata": {},
   "outputs": [
    {
     "name": "stdout",
     "output_type": "stream",
     "text": [
      "[[8 9 3]\n",
      " [2 7 0]\n",
      " [4 8 0]]\n",
      "Произведение матрицы на произведение чисел:\n",
      "[[48 54 18]\n",
      " [12 42  0]\n",
      " [24 48  0]]\n",
      "Произведение второго числа и заданной матрицы, умноженное на первое число:\n",
      "[[48 54 18]\n",
      " [12 42  0]\n",
      " [24 48  0]]\n"
     ]
    }
   ],
   "source": [
    "A = np.random.randint(0, 10, (3, 3))\n",
    "print(A)\n",
    "p = 2\n",
    "q = 3\n",
    "print(\"Произведение матрицы на произведение чисел:\")\n",
    "L = (p * q) * A\n",
    "print(L)\n",
    "print(\"Произведение второго числа и заданной матрицы, умноженное на первое число:\")\n",
    "R = p * (q * A)\n",
    "print(R)"
   ]
  },
  {
   "cell_type": "markdown",
   "id": "43127544",
   "metadata": {},
   "source": [
    "#### Свойство 5. Произведение суммы матриц на число равно сумме произведений этих матриц на заданное число:"
   ]
  },
  {
   "cell_type": "code",
   "execution_count": 11,
   "id": "c90322fe",
   "metadata": {},
   "outputs": [
    {
     "name": "stdout",
     "output_type": "stream",
     "text": [
      "A\n",
      "[[4 9 8]\n",
      " [0 4 0]\n",
      " [7 8 3]] \n",
      "B\n",
      "[[2 3 6]\n",
      " [4 7 8]\n",
      " [5 4 0]]\n",
      "Произведение суммы матриц на число:\n",
      "[[18 36 42]\n",
      " [12 33 24]\n",
      " [36 36  9]]\n",
      "Cуммa произведений этих матриц на заданное число:\n",
      "[[18 36 42]\n",
      " [12 33 24]\n",
      " [36 36  9]]\n"
     ]
    }
   ],
   "source": [
    "A = np.random.randint(0, 10, (3, 3))\n",
    "B = np.random.randint(0, 10, (3, 3))\n",
    "print(f\"A\\n{A} \\nB\\n{B}\")\n",
    "k = 3\n",
    "print(\"Произведение суммы матриц на число:\")\n",
    "L = k * (A + B)\n",
    "print(L)\n",
    "print(\"Cуммa произведений этих матриц на заданное число:\")\n",
    "R = k * A + k * B\n",
    "print(R)"
   ]
  },
  {
   "cell_type": "markdown",
   "metadata": {},
   "source": [
    "### Сложение матриц"
   ]
  },
  {
   "cell_type": "markdown",
   "id": "6fccbca7",
   "metadata": {},
   "source": [
    "#### Свойство 1. Коммутативность сложения. От перестановки матриц их сумма не изменяется:"
   ]
  },
  {
   "cell_type": "code",
   "execution_count": 12,
   "id": "93186c88",
   "metadata": {},
   "outputs": [
    {
     "name": "stdout",
     "output_type": "stream",
     "text": [
      "A\n",
      "[[5 6 8]\n",
      " [8 4 1]\n",
      " [6 5 6]] \n",
      "B\n",
      "[[8 8 0]\n",
      " [0 5 2]\n",
      " [2 7 8]]\n",
      "A + B\n",
      "[[13 14  8]\n",
      " [ 8  9  3]\n",
      " [ 8 12 14]]\n",
      "B + A\n",
      "[[13 14  8]\n",
      " [ 8  9  3]\n",
      " [ 8 12 14]]\n"
     ]
    }
   ],
   "source": [
    "A = np.random.randint(0, 10, (3, 3))\n",
    "B = np.random.randint(0, 10, (3, 3))\n",
    "print(f\"A\\n{A} \\nB\\n{B}\")\n",
    "\n",
    "print(\"A + B\")\n",
    "L = A + B\n",
    "print(L)\n",
    "print(\"B + A\")\n",
    "R = B + A\n",
    "print(R)"
   ]
  },
  {
   "cell_type": "markdown",
   "id": "8712659a",
   "metadata": {},
   "source": [
    "#### Свойство 2. Ассоциативность сложения. Результат сложения трех и более матриц не зависит от порядка, в котором эта операция будет выполняться:"
   ]
  },
  {
   "cell_type": "code",
   "execution_count": 13,
   "id": "42046b08",
   "metadata": {},
   "outputs": [
    {
     "name": "stdout",
     "output_type": "stream",
     "text": [
      "A\n",
      "[[13 17]\n",
      " [15  6]] \n",
      "B\n",
      "[[ 3  9]\n",
      " [19 19]] \n",
      "C\n",
      "[[16 17]\n",
      " [ 2  9]]\n",
      "A + (B + C)\n",
      "[[32 43]\n",
      " [36 34]]\n",
      "(A + B) + C\n",
      "[[32 43]\n",
      " [36 34]]\n"
     ]
    }
   ],
   "source": [
    "A = np.random.randint(0, 20, (2, 2))\n",
    "B = np.random.randint(0, 20, (2, 2))\n",
    "C = np.random.randint(0, 20, (2, 2))\n",
    "print(f\"A\\n{A} \\nB\\n{B} \\nC\\n{C}\")\n",
    "\n",
    "print(\"A + (B + C)\")\n",
    "L = A + (B + C)\n",
    "print(L)\n",
    "print(\"(A + B) + C\")\n",
    "R = (A + B) + C\n",
    "print(R)"
   ]
  },
  {
   "cell_type": "markdown",
   "id": "a0356359",
   "metadata": {},
   "source": [
    "#### Свойство 3. Для любой матрицы существует противоположная ей , такая, что их сумма является нулевой матрицей:"
   ]
  },
  {
   "cell_type": "code",
   "execution_count": 14,
   "id": "7054e715",
   "metadata": {},
   "outputs": [
    {
     "name": "stdout",
     "output_type": "stream",
     "text": [
      "A \n",
      "[[19 19]\n",
      " [ 7 16]]\n",
      "-A \n",
      "[[-19 -19]\n",
      " [ -7 -16]]\n",
      "Сумма:\n",
      "[[0 0]\n",
      " [0 0]]\n"
     ]
    }
   ],
   "source": [
    "A = np.random.randint(0, 20, (2, 2))\n",
    "print(f\"A \\n{A}\")\n",
    "print(f\"-A \\n{A * (-1)}\")\n",
    "\n",
    "print(f\"Сумма:\")\n",
    "L = A + (-1)*A\n",
    "print(L)"
   ]
  },
  {
   "cell_type": "markdown",
   "metadata": {},
   "source": [
    "### Умножение матриц"
   ]
  },
  {
   "cell_type": "markdown",
   "id": "a5f76809",
   "metadata": {},
   "source": [
    "#### Свойство 1. Ассоциативность умножения. Результат умножения матриц не зависит от порядка, в котором будет выполняться эта операция:"
   ]
  },
  {
   "cell_type": "code",
   "execution_count": 15,
   "id": "1e22cf8b",
   "metadata": {},
   "outputs": [
    {
     "name": "stdout",
     "output_type": "stream",
     "text": [
      "A \n",
      "[[8 7]\n",
      " [8 6]],\n",
      "B \n",
      "[[5 1]\n",
      " [8 8]],\n",
      "C \n",
      "[[1 6]\n",
      " [9 8]]\n",
      "A*(B*C)\n",
      "[[ 672 1088]\n",
      " [ 592  976]]\n",
      "(A*B)*C\n",
      "[[ 672 1088]\n",
      " [ 592  976]]\n"
     ]
    }
   ],
   "source": [
    "A = np.random.randint(0, 10, (2, 2))\n",
    "B = np.random.randint(0, 10, (2, 2))\n",
    "C = np.random.randint(0, 10, (2, 2))\n",
    "print(f\"A \\n{A},\\nB \\n{B},\\nC \\n{C}\")\n",
    "\n",
    "print(\"A*(B*C)\")\n",
    "L = A.dot(B.dot(C))\n",
    "print(L)\n",
    "print(\"(A*B)*C\")\n",
    "R = (A.dot(B)).dot(C)\n",
    "print(R)"
   ]
  },
  {
   "cell_type": "markdown",
   "id": "89fe1823",
   "metadata": {},
   "source": [
    "#### Свойство 2. Дистрибутивность умножения. Произведение матрицы на сумму матриц равно сумме произведений матриц:"
   ]
  },
  {
   "cell_type": "code",
   "execution_count": 16,
   "id": "6bc21f19",
   "metadata": {},
   "outputs": [
    {
     "name": "stdout",
     "output_type": "stream",
     "text": [
      "A \n",
      "[[7 3]\n",
      " [9 4]],\n",
      "B \n",
      "[[1 7]\n",
      " [1 6]],\n",
      "C \n",
      "[[4 9]\n",
      " [7 1]]\n",
      "A*(B+C)\n",
      "[[ 59 133]\n",
      " [ 77 172]]\n",
      "(A*B + A*C)\n",
      "[[ 59 133]\n",
      " [ 77 172]]\n"
     ]
    }
   ],
   "source": [
    "A = np.random.randint(0, 10, (2, 2))\n",
    "B = np.random.randint(0, 10, (2, 2))\n",
    "C = np.random.randint(0, 10, (2, 2))\n",
    "print(f\"A \\n{A},\\nB \\n{B},\\nC \\n{C}\")\n",
    "\n",
    "print(\"A*(B+C)\")\n",
    "L = A.dot(B + C)\n",
    "print(L)\n",
    "print(\"(A*B + A*C)\")\n",
    "R = A.dot(B) + A.dot(C)\n",
    "print(R)"
   ]
  },
  {
   "cell_type": "markdown",
   "id": "07ea0181",
   "metadata": {},
   "source": [
    "#### Свойство 3. Умножение матриц в общем виде не коммутативно. Это означает, что для матриц не выполняется правило независимости произведения от перестановки множителей:"
   ]
  },
  {
   "cell_type": "code",
   "execution_count": 17,
   "id": "22494736",
   "metadata": {},
   "outputs": [
    {
     "name": "stdout",
     "output_type": "stream",
     "text": [
      "A\n",
      "[[0 4]\n",
      " [3 5]] \n",
      "B\n",
      "[[0 7]\n",
      " [2 7]]\n",
      "A*B\n",
      "[[ 8 28]\n",
      " [10 56]]\n",
      "B*A\n",
      "[[21 35]\n",
      " [21 43]]\n"
     ]
    }
   ],
   "source": [
    "A = np.random.randint(0, 10, (2, 2))\n",
    "B = np.random.randint(0, 10, (2, 2))\n",
    "print(f\"A\\n{A} \\nB\\n{B}\")\n",
    "\n",
    "print(\"A*B\")\n",
    "L = A.dot(B)\n",
    "print(L)\n",
    "print(\"B*A\")\n",
    "R = B.dot(A)\n",
    "print(R)"
   ]
  },
  {
   "cell_type": "markdown",
   "id": "65fcab6f",
   "metadata": {},
   "source": [
    "#### Свойство 4. Произведение заданной матрицы на единичную равно исходной матрице:"
   ]
  },
  {
   "cell_type": "code",
   "execution_count": 18,
   "id": "c739f87c",
   "metadata": {},
   "outputs": [
    {
     "name": "stdout",
     "output_type": "stream",
     "text": [
      "A \n",
      "[[1 5 1]\n",
      " [2 4 7]\n",
      " [3 7 0]]\n",
      "E*A\n",
      "[[1. 5. 1.]\n",
      " [2. 4. 7.]\n",
      " [3. 7. 0.]]\n",
      "A*E\n",
      "[[1. 5. 1.]\n",
      " [2. 4. 7.]\n",
      " [3. 7. 0.]]\n"
     ]
    }
   ],
   "source": [
    "A = np.random.randint(0, 10, (3, 3))\n",
    "E = np.eye(3)\n",
    "print(f\"A \\n{A}\")\n",
    "\n",
    "print(\"E*A\")\n",
    "L = E.dot(A)\n",
    "print(L)\n",
    "print(\"A*E\")\n",
    "R = A.dot(E)\n",
    "print(R)"
   ]
  },
  {
   "cell_type": "markdown",
   "id": "e869948a",
   "metadata": {},
   "source": [
    "#### Свойство 5. Произведение заданной матрицы на нулевую матрицу равно нулевой матрице:"
   ]
  },
  {
   "cell_type": "code",
   "execution_count": 19,
   "id": "66bcc9b3",
   "metadata": {},
   "outputs": [
    {
     "name": "stdout",
     "output_type": "stream",
     "text": [
      "A \n",
      "[[9 6 9]\n",
      " [4 2 2]\n",
      " [7 6 3]]\n",
      "Z*A\n",
      "[[0. 0. 0.]\n",
      " [0. 0. 0.]\n",
      " [0. 0. 0.]]\n",
      "A*Z\n",
      "[[0. 0. 0.]\n",
      " [0. 0. 0.]\n",
      " [0. 0. 0.]]\n"
     ]
    }
   ],
   "source": [
    "A = np.random.randint(0, 10, (3, 3))\n",
    "Z = np.zeros((3, 3))\n",
    "print(f\"A \\n{A}\")\n",
    "\n",
    "print(\"Z*A\")\n",
    "L = Z.dot(A)\n",
    "print(L)\n",
    "print(\"A*Z\")\n",
    "R = A.dot(Z)\n",
    "print(R)"
   ]
  },
  {
   "cell_type": "markdown",
   "metadata": {},
   "source": [
    "### Определитель матрицы"
   ]
  },
  {
   "cell_type": "markdown",
   "id": "ddeec658",
   "metadata": {},
   "source": [
    "#### Свойство 1. Определитель матрицы остается неизменным при ее транспонировании:"
   ]
  },
  {
   "cell_type": "code",
   "execution_count": 20,
   "id": "47308845",
   "metadata": {},
   "outputs": [
    {
     "name": "stdout",
     "output_type": "stream",
     "text": [
      "A \n",
      "[[7 3 5]\n",
      " [2 3 2]\n",
      " [8 4 7]]\n",
      "△A = 17.0\n",
      "A(T) \n",
      "[[7 2 8]\n",
      " [3 3 4]\n",
      " [5 2 7]]\n",
      "△A(T) = 17.0\n"
     ]
    }
   ],
   "source": [
    "A = np.random.randint(0, 10, (3, 3))\n",
    "print(f\"A \\n{A}\")\n",
    "\n",
    "det_A = round(np.linalg.det(A), 3)\n",
    "print(f\"△A = {det_A}\")\n",
    "\n",
    "print(f\"A(T) \\n{A.T}\")\n",
    "det_A_t = round(np.linalg.det(A.T), 3)\n",
    "print(f\"△A(T) = {det_A_t}\")"
   ]
  },
  {
   "cell_type": "markdown",
   "id": "05aaca22",
   "metadata": {},
   "source": [
    "#### Свойство 2. Если у матрицы есть строка или столбец, состоящие из нулей, то определитель такой матрицы равен нулю:"
   ]
  },
  {
   "cell_type": "code",
   "execution_count": 21,
   "id": "60dba33d",
   "metadata": {},
   "outputs": [
    {
     "name": "stdout",
     "output_type": "stream",
     "text": [
      "A \n",
      "[[2 7 1]\n",
      " [0 9 7]\n",
      " [9 9 7]]\n",
      "△A = 360.00000000000006\n",
      "A \n",
      "[[0 5 2]\n",
      " [0 6 2]\n",
      " [0 9 4]]\n",
      "△A = 0.0\n"
     ]
    }
   ],
   "source": [
    "A = np.random.randint(0, 10, (3, 3))\n",
    "print(f\"A \\n{A}\")\n",
    "det_A = np.linalg.det(A)\n",
    "print(f\"△A = {det_A}\")\n",
    "\n",
    "A = np.matrix('0 5 2; 0 6 2; 0 9 4')\n",
    "print(f\"A \\n{A}\")\n",
    "det_A = np.linalg.det(A)\n",
    "print(f\"△A = {det_A}\")"
   ]
  },
  {
   "cell_type": "markdown",
   "id": "e8c42dd3",
   "metadata": {},
   "source": [
    "#### Свойство 3. При перестановке строк матрицы знак ее определителя меняется на противоположный:"
   ]
  },
  {
   "cell_type": "code",
   "execution_count": 22,
   "id": "646fa951",
   "metadata": {},
   "outputs": [
    {
     "name": "stdout",
     "output_type": "stream",
     "text": [
      "A \n",
      "[[2 6 3]\n",
      " [5 2 8]\n",
      " [1 2 3]]\n",
      "|A| = -38.0\n",
      "B \n",
      "[[2 6 3]\n",
      " [1 2 3]\n",
      " [5 2 8]]\n",
      "△B = 38.0\n"
     ]
    }
   ],
   "source": [
    "A = np.matrix('2 6 3; 5 2 8; 1 2 3')\n",
    "print(f\"A \\n{A}\")\n",
    "det_A = round(np.linalg.det(A), 3)\n",
    "print(f\"|A| = {det_A}\")\n",
    "\n",
    "B = np.matrix('2 6 3; 1 2 3; 5 2 8')\n",
    "print(f\"B \\n{B}\")\n",
    "det_B = round(np.linalg.det(B), 3)\n",
    "print(f\"△B = {det_B}\")"
   ]
  },
  {
   "cell_type": "markdown",
   "id": "a36c705b",
   "metadata": {},
   "source": [
    "#### Свойство 4. Если у матрицы есть две одинаковые строки, то ее определитель равен нулю:"
   ]
  },
  {
   "cell_type": "code",
   "execution_count": 23,
   "id": "68de248c",
   "metadata": {
    "scrolled": true
   },
   "outputs": [
    {
     "name": "stdout",
     "output_type": "stream",
     "text": [
      "A \n",
      "[[2 6 3]\n",
      " [5 2 8]\n",
      " [1 2 3]]\n",
      "△A = -38.0\n",
      "A \n",
      "[[2 6 3]\n",
      " [1 2 3]\n",
      " [1 2 3]]\n",
      "△A = 0.0\n",
      "\n"
     ]
    }
   ],
   "source": [
    "A = np.matrix('2 6 3; 5 2 8; 1 2 3')\n",
    "print(f\"A \\n{A}\")\n",
    "det_A = round(np.linalg.det(A), 3)\n",
    "print(f\"△A = {det_A}\")\n",
    "\n",
    "A = np.matrix('2 6 3; 1 2 3; 1 2 3')\n",
    "print(f\"A \\n{A}\")\n",
    "det_A = round(np.linalg.det(A), 3)\n",
    "print(f\"△A = {det_A}\\n\")"
   ]
  },
  {
   "cell_type": "markdown",
   "id": "66ac1538",
   "metadata": {},
   "source": [
    "#### Свойство 5. Если все элементы строки или столбца матрицы умножить на какое-то число, то и определитель будет умножен на это число:"
   ]
  },
  {
   "cell_type": "code",
   "execution_count": 24,
   "id": "2810be5b",
   "metadata": {},
   "outputs": [
    {
     "name": "stdout",
     "output_type": "stream",
     "text": [
      "A \n",
      "[[-8 53 66]\n",
      " [ 4 16 17]\n",
      " [-7 31 28]]\n",
      "B \n",
      "[[ -8  53  66]\n",
      " [  4  16  17]\n",
      " [-14  62  56]]\n",
      "△A * k = 7930.0\n",
      "△B = 7930.0\n"
     ]
    }
   ],
   "source": [
    "A = np.random.randint(-15, 90, (3, 3))\n",
    "print(f\"A \\n{A}\")\n",
    "k = 2\n",
    "B = A.copy()\n",
    "B[2, :] = k * B[2, :]\n",
    "print(f\"B \\n{B}\")\n",
    "det_A = round(np.linalg.det(A), 3)\n",
    "det_B = round(np.linalg.det(B), 3)\n",
    "print(f\"△A * k = {det_A * k}\")\n",
    "print(f\"△B = {det_B}\")"
   ]
  },
  {
   "cell_type": "markdown",
   "id": "cea7cc2f",
   "metadata": {},
   "source": [
    "#### Свойство 6. Если все элементы строки или столбца можно представить как сумму двух слагаемых, то определитель такой матрицы равен сумме определителей двух соответствующих матриц:"
   ]
  },
  {
   "cell_type": "code",
   "execution_count": 25,
   "id": "78da1082",
   "metadata": {},
   "outputs": [
    {
     "name": "stdout",
     "output_type": "stream",
     "text": [
      "C \n",
      "[[ 7  4  3]\n",
      " [ 8 12 -1]\n",
      " [ 2  7  1]]\n",
      "A \n",
      "[[7 4 3]\n",
      " [7 4 3]\n",
      " [2 7 1]]\n",
      "B \n",
      "[[ 7  4  3]\n",
      " [ 1  8 -4]\n",
      " [ 2  7  1]]\n",
      "△C\n",
      "189.0\n",
      "△A + △B\n",
      "189.0\n"
     ]
    }
   ],
   "source": [
    "A = np.matrix('7 4 3; 7 4 3; 2 7 1')\n",
    "B = np.matrix('7 4 3; 1 8 -4; 2 7 1')\n",
    "C = A.copy()\n",
    "C[1, :] += B[1, :]\n",
    "print(f\"C \\n{C}\")\n",
    "print(f\"A \\n{A}\")\n",
    "print(f\"B \\n{B}\")\n",
    "\n",
    "print(\"△C\")\n",
    "print(round(np.linalg.det(C), 3))\n",
    "print(\"△A + △B\")\n",
    "print(round(np.linalg.det(A), 3) + round(np.linalg.det(B), 3))"
   ]
  },
  {
   "cell_type": "markdown",
   "id": "fad0e390",
   "metadata": {},
   "source": [
    "#### Свойство 7. Если к элементам одной строки прибавить элементы другой строки, умноженные на одно и тоже число, то определитель матрицы не изменится:"
   ]
  },
  {
   "cell_type": "code",
   "execution_count": 26,
   "id": "6fb767d6",
   "metadata": {},
   "outputs": [
    {
     "name": "stdout",
     "output_type": "stream",
     "text": [
      "A\n",
      "[[8 3 7]\n",
      " [5 7 7]\n",
      " [7 8 4]] \n",
      "B\n",
      "[[ 8  3  7]\n",
      " [21 13 21]\n",
      " [ 7  8  4]]\n",
      "△A\n",
      "-200.0\n",
      "△B\n",
      "-200.0\n"
     ]
    }
   ],
   "source": [
    "A = np.random.randint(1, 10, (3, 3))\n",
    "k = 2\n",
    "B = A.copy()\n",
    "B[1, :] = B[1, :] + k * B[0, :]\n",
    "print(f\"A\\n{A} \\nB\\n{B}\")\n",
    "\n",
    "\n",
    "print(\"△A\")\n",
    "print(round(np.linalg.det(A), 3))\n",
    "print(\"△B\")\n",
    "print(round(np.linalg.det(B), 3))"
   ]
  },
  {
   "cell_type": "markdown",
   "id": "01b36f4a",
   "metadata": {},
   "source": [
    "#### Свойство 8. Если строка или столбец матрицы является линейной комбинацией других строк (столбцов), то определитель такой матрицы равен нулю:"
   ]
  },
  {
   "cell_type": "code",
   "execution_count": 27,
   "id": "4bc7be35",
   "metadata": {},
   "outputs": [
    {
     "name": "stdout",
     "output_type": "stream",
     "text": [
      "A \n",
      "[[6 2 4]\n",
      " [2 1 9]\n",
      " [4 3 2]]\n",
      "△A\n",
      "0.0\n"
     ]
    }
   ],
   "source": [
    "A = np.matrix('6 2 4; 2 1 9; 4 3 2')\n",
    "print(f\"A \\n{A}\")\n",
    "k = 2\n",
    "\n",
    "A[1, :] = A[0, :] + k * A[2, :]\n",
    "print(\"△A\")\n",
    "print(round(np.linalg.det(A), 3))"
   ]
  },
  {
   "cell_type": "markdown",
   "id": "fa90c713",
   "metadata": {},
   "source": [
    "#### Свойство 9. Если матрица содержит пропорциональные строки, то ее определитель равен нулю:"
   ]
  },
  {
   "cell_type": "code",
   "execution_count": 28,
   "id": "9d869949",
   "metadata": {
    "scrolled": true
   },
   "outputs": [
    {
     "name": "stdout",
     "output_type": "stream",
     "text": [
      "A \n",
      "[[6 2 4]\n",
      " [2 1 9]\n",
      " [4 3 2]]\n",
      "-78.0\n",
      "[[ 6  2  4]\n",
      " [24  8 16]\n",
      " [ 4  3  2]]\n",
      "△A\n",
      "0.0\n"
     ]
    }
   ],
   "source": [
    "A = np.matrix('6 2 4; 2 1 9; 4 3 2')\n",
    "print(f\"A \\n{A}\")\n",
    "print(round(np.linalg.det(A), 3))\n",
    "\n",
    "k = 4\n",
    "A[1, :] = k * A[0, :]\n",
    "print(A)\n",
    "print(\"△A\")\n",
    "print(round(np.linalg.det(A), 3))"
   ]
  },
  {
   "cell_type": "markdown",
   "metadata": {},
   "source": [
    "### Обратная матрица"
   ]
  },
  {
   "cell_type": "markdown",
   "id": "fbd9a015",
   "metadata": {},
   "source": [
    "#### Свойство 1. Обратная матрица обратной матрицы есть исходная матрица:"
   ]
  },
  {
   "cell_type": "code",
   "execution_count": 29,
   "id": "79601a20",
   "metadata": {},
   "outputs": [
    {
     "name": "stdout",
     "output_type": "stream",
     "text": [
      "[[0.67122576 5.44947895]\n",
      " [9.83382116 5.56579284]]\n",
      "[[0.67122576 5.44947895]\n",
      " [9.83382116 5.56579284]]\n"
     ]
    }
   ],
   "source": [
    "A = np.random.uniform(0, 10, (2, 2))\n",
    "print(A)\n",
    "A_inv = np.linalg.inv(A)\n",
    "A_inv_inv = np.linalg.inv(A_inv)\n",
    "print(A_inv_inv)"
   ]
  },
  {
   "cell_type": "markdown",
   "id": "23048ddd",
   "metadata": {},
   "source": [
    "#### Свойство 2. Обратная матрица транспонированной матрицы равна транспонированной матрице от обратной матрицы:"
   ]
  },
  {
   "cell_type": "code",
   "execution_count": 30,
   "id": "fa0e6940",
   "metadata": {},
   "outputs": [
    {
     "name": "stdout",
     "output_type": "stream",
     "text": [
      "Обратная матрица транспонированной матрицы:\n",
      "[[ 0.34985134 -0.25989548]\n",
      " [-0.20497718  0.32384085]]\n",
      "Транспонированная матрица от обратной матрицы:\n",
      "[[ 0.34985134 -0.25989548]\n",
      " [-0.20497718  0.32384085]]\n"
     ]
    }
   ],
   "source": [
    "A = np.random.uniform(0, 10, (2, 2))\n",
    "print(\"Обратная матрица транспонированной матрицы:\")\n",
    "L = np.linalg.inv(A.T)\n",
    "print(L)\n",
    "\n",
    "print(\"Транспонированная матрица от обратной матрицы:\")\n",
    "R = (np.linalg.inv(A)).T\n",
    "print(R)"
   ]
  },
  {
   "cell_type": "markdown",
   "id": "aa291b9b",
   "metadata": {},
   "source": [
    "#### Свойство 3. Обратная матрица произведения матриц равна произведению обратных матриц:"
   ]
  },
  {
   "cell_type": "code",
   "execution_count": 31,
   "id": "0e88e39b",
   "metadata": {},
   "outputs": [
    {
     "name": "stdout",
     "output_type": "stream",
     "text": [
      "Обратная матрица произведения матриц:\n",
      "[[ 0.06213741 -0.02910627]\n",
      " [-0.08959203  0.06849657]]\n",
      "Произведение обратных матриц:\n",
      "[[ 0.06213741 -0.02910627]\n",
      " [-0.08959203  0.06849657]]\n"
     ]
    }
   ],
   "source": [
    "A = np.random.uniform(0, 10, (2, 2))\n",
    "B = np.random.uniform(0, 10, (2, 2))\n",
    "\n",
    "print(\"Обратная матрица произведения матриц:\")\n",
    "L = np.linalg.inv(A.dot(B))\n",
    "print(L)\n",
    "\n",
    "print(\"Произведение обратных матриц:\")\n",
    "R = np.linalg.inv(B).dot(np.linalg.inv(A))\n",
    "print(R)"
   ]
  },
  {
   "cell_type": "code",
   "execution_count": null,
   "metadata": {},
   "outputs": [],
   "source": []
  }
 ],
 "metadata": {
  "kernelspec": {
   "display_name": "Python 3 (ipykernel)",
   "language": "python",
   "name": "python3"
  },
  "language_info": {
   "codemirror_mode": {
    "name": "ipython",
    "version": 3
   },
   "file_extension": ".py",
   "mimetype": "text/x-python",
   "name": "python",
   "nbconvert_exporter": "python",
   "pygments_lexer": "ipython3",
   "version": "3.9.13"
  }
 },
 "nbformat": 4,
 "nbformat_minor": 2
}
